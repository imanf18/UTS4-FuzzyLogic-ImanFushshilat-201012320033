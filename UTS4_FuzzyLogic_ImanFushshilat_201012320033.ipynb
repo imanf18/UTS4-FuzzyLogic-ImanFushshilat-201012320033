{
  "nbformat": 4,
  "nbformat_minor": 0,
  "metadata": {
    "colab": {
      "private_outputs": true,
      "provenance": [],
      "authorship_tag": "ABX9TyP/XqneesKG5WAj+K5hZoBD",
      "include_colab_link": true
    },
    "kernelspec": {
      "name": "python3",
      "display_name": "Python 3"
    },
    "language_info": {
      "name": "python"
    }
  },
  "cells": [
    {
      "cell_type": "markdown",
      "metadata": {
        "id": "view-in-github",
        "colab_type": "text"
      },
      "source": [
        "<a href=\"https://colab.research.google.com/github/imanf18/UTS4-FuzzyLogic-ImanFushshilat-201012320033/blob/main/UTS4_FuzzyLogic_ImanFushshilat_201012320033.ipynb\" target=\"_parent\"><img src=\"https://colab.research.google.com/assets/colab-badge.svg\" alt=\"Open In Colab\"/></a>"
      ]
    },
    {
      "cell_type": "code",
      "source": [
        "import numpy as np\n",
        "import skfuzzy as fuzz\n",
        "from skfuzzy import control as ctrl\n",
        "\n",
        "# Definisi variabel input dan output\n",
        "kepadatan_lalu_lintas = ctrl.Antecedent(np.arange(0, 2001, 1), 'Kepadatan Lalu Lintas')\n",
        "kualitas_sinyal = ctrl.Antecedent(np.arange(0, 101, 1), 'Kualitas Sinyal')\n",
        "kekuatan_daya = ctrl.Consequent(np.arange(0, 21, 1), 'Kekuatan Daya pada Jaringan Seluler')\n",
        "\n",
        "# Mendefinisikan fungsi keanggotaan untuk setiap variabel input dan output\n",
        "kepadatan_lalu_lintas['rendah'] = fuzz.trimf(kepadatan_lalu_lintas.universe, [0, 0, 100])\n",
        "kepadatan_lalu_lintas['sedang'] = fuzz.trimf(kepadatan_lalu_lintas.universe, [100, 550, 1000])\n",
        "kepadatan_lalu_lintas['tinggi'] = fuzz.trimf(kepadatan_lalu_lintas.universe, [1000, 2000, 2000])\n",
        "\n",
        "kualitas_sinyal['buruk'] = fuzz.trimf(kualitas_sinyal.universe, [0, 0, 20])\n",
        "kualitas_sinyal['cukup'] = fuzz.trimf(kualitas_sinyal.universe, [20, 30, 40])\n",
        "kualitas_sinyal['baik'] = fuzz.trimf(kualitas_sinyal.universe, [40, 50, 60])\n",
        "kualitas_sinyal['sangat_baik'] = fuzz.trimf(kualitas_sinyal.universe, [60, 70, 80])\n",
        "kualitas_sinyal['istimewa'] = fuzz.trimf(kualitas_sinyal.universe, [80, 100, 100])\n",
        "\n",
        "kekuatan_daya['rendah'] = fuzz.trimf(kekuatan_daya.universe, [0, 0, 10])\n",
        "kekuatan_daya['tinggi'] = fuzz.trimf(kekuatan_daya.universe, [5, 15, 20])\n",
        "\n",
        "# Menampilkan grafik fungsi keanggotaan\n",
        "kepadatan_lalu_lintas.view()\n",
        "kualitas_sinyal.view()\n",
        "kekuatan_daya.view()\n",
        "\n",
        "# Membuat aturan-aturan\n",
        "rule1 = ctrl.Rule(kepadatan_lalu_lintas['rendah'] & kualitas_sinyal['buruk'], kekuatan_daya['rendah'])\n",
        "rule2 = ctrl.Rule(kepadatan_lalu_lintas['sedang'] & kualitas_sinyal['cukup'], kekuatan_daya['tinggi'])\n",
        "rule3 = ctrl.Rule(kepadatan_lalu_lintas['tinggi'] & kualitas_sinyal['baik'], kekuatan_daya['tinggi'])\n",
        "rule4 = ctrl.Rule(kepadatan_lalu_lintas['tinggi'] & kualitas_sinyal['sangat_baik'], kekuatan_daya['tinggi'])\n",
        "\n",
        "# Membuat kontroler Fuzzy\n",
        "kekuatan_daya_ctrl = ctrl.ControlSystem([rule1, rule2, rule3, rule4])\n",
        "kekuatan_daya_simulasi = ctrl.ControlSystemSimulation(kekuatan_daya_ctrl)\n",
        "\n",
        "# Input dari pengguna\n",
        "kepadatan = float(input(\"Masukkan kepadatan lalu lintas (bps/m²): \"))\n",
        "kualitas = float(input(\"Masukkan kualitas sinyal (dB): \"))\n",
        "\n",
        "# Memasukkan input ke simulasi kontroler Fuzzy\n",
        "kekuatan_daya_simulasi.input['Kepadatan Lalu Lintas'] = kepadatan\n",
        "kekuatan_daya_simulasi.input['Kualitas Sinyal'] = kualitas\n",
        "\n",
        "# Melakukan perhitungan\n",
        "kekuatan_daya_simulasi.compute()\n",
        "\n",
        "# Menampilkan output\n",
        "print(\"Hasil Perhitungan Kekuatan Daya pada Jaringan Seluler:\")\n",
        "print(\"Kekuatan Daya: \", kekuatan_daya_simulasi.output['Kekuatan Daya pada Jaringan Seluler'])\n",
        "\n",
        "# Menampilkan grafik output\n",
        "kekuatan_daya.view(sim=kekuatan_daya_simulasi)\n",
        "\n",
        "plt.show()\n"
      ],
      "metadata": {
        "id": "Z_ehTede3838"
      },
      "execution_count": null,
      "outputs": []
    }
  ]
}