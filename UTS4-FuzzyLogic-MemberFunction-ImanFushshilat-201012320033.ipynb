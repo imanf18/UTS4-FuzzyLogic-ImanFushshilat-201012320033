{
  "nbformat": 4,
  "nbformat_minor": 0,
  "metadata": {
    "colab": {
      "private_outputs": true,
      "provenance": [],
      "authorship_tag": "ABX9TyMimcDQW7oFoTA4H345NCxc",
      "include_colab_link": true
    },
    "kernelspec": {
      "name": "python3",
      "display_name": "Python 3"
    },
    "language_info": {
      "name": "python"
    }
  },
  "cells": [
    {
      "cell_type": "markdown",
      "metadata": {
        "id": "view-in-github",
        "colab_type": "text"
      },
      "source": [
        "<a href=\"https://colab.research.google.com/github/imanf18/UTS4-FuzzyLogic-ImanFushshilat-201012320033/blob/main/UTS4-FuzzyLogic-MemberFunction-ImanFushshilat-201012320033.ipynb\" target=\"_parent\"><img src=\"https://colab.research.google.com/assets/colab-badge.svg\" alt=\"Open In Colab\"/></a>"
      ]
    },
    {
      "cell_type": "code",
      "execution_count": null,
      "metadata": {
        "id": "7gjux2xyk3KX"
      },
      "outputs": [],
      "source": [
        "import numpy as np\n",
        "import matplotlib.pyplot as plt\n",
        "import skfuzzy as fuzz\n",
        "\n",
        "# Definisikan rentang nilai untuk setiap variabel input dan output\n",
        "# Input 1: Kepadatan Lalu Lintas Jaringan\n",
        "kepadatan_lalu_lintas = np.arange(0, 2000, 1)\n",
        "\n",
        "# Input 2: Kualitas Sinyal\n",
        "kualitas_sinyal = np.arange(0, 100, 1)\n",
        "\n",
        "# Output: Kekuatan Daya pada Jaringan Seluler\n",
        "kekuatan_daya = np.arange(0, 20, 0.1)\n",
        "\n",
        "# Tentukan fungsi keanggotaan untuk setiap variabel input dan output\n",
        "# Fungsi keanggotaan untuk kepadatan lalu lintas jaringan\n",
        "rendah_kepadatan = fuzz.trimf(kepadatan_lalu_lintas, [0, 0, 100])\n",
        "sedang_kepadatan = fuzz.trimf(kepadatan_lalu_lintas, [100, 550, 1000])\n",
        "tinggi_kepadatan = fuzz.trimf(kepadatan_lalu_lintas, [1000, 2000, 2000])\n",
        "\n",
        "# Fungsi keanggotaan untuk kualitas sinyal\n",
        "sinyal_buruk = fuzz.trimf(kualitas_sinyal, [0, 0, 20])\n",
        "sinyal_cukup = fuzz.trimf(kualitas_sinyal, [20, 30, 40])\n",
        "sinyal_baik = fuzz.trimf(kualitas_sinyal, [40, 50, 60])\n",
        "sinyal_sangat_baik = fuzz.trimf(kualitas_sinyal, [60, 70, 80])\n",
        "sinyal_istimewa = fuzz.trimf(kualitas_sinyal, [80, 100, 100])\n",
        "\n",
        "# Fungsi keanggotaan untuk kekuatan daya pada jaringan seluler\n",
        "rendah_daya = fuzz.trimf(kekuatan_daya, [0, 0, 10])\n",
        "tinggi_daya = fuzz.trimf(kekuatan_daya, [5, 10, 15])\n",
        "\n",
        "# Plotting fungsi keanggotaan untuk setiap variabel input dan output\n",
        "plt.figure(figsize=(10, 8))\n",
        "\n",
        "# Input 1: Kepadatan Lalu Lintas Jaringan\n",
        "plt.subplot(3, 1, 1)\n",
        "plt.plot(kepadatan_lalu_lintas, rendah_kepadatan, 'b', label='Rendah')\n",
        "plt.plot(kepadatan_lalu_lintas, sedang_kepadatan, 'g', label='Sedang')\n",
        "plt.plot(kepadatan_lalu_lintas, tinggi_kepadatan, 'r', label='Tinggi')\n",
        "plt.title('Kepadatan Lalu Lintas Jaringan')\n",
        "plt.xlabel('Kepadatan Lalu Lintas (bps/m²)')\n",
        "plt.ylabel('Derajat Keanggotaan')\n",
        "plt.legend()\n",
        "\n",
        "# Input 2: Kualitas Sinyal\n",
        "plt.subplot(3, 1, 2)\n",
        "plt.plot(kualitas_sinyal, sinyal_buruk, 'b', label='Buruk')\n",
        "plt.plot(kualitas_sinyal, sinyal_cukup, 'g', label='Cukup')\n",
        "plt.plot(kualitas_sinyal, sinyal_baik, 'r', label='Baik')\n",
        "plt.plot(kualitas_sinyal, sinyal_sangat_baik, 'y', label='Sangat Baik')\n",
        "plt.plot(kualitas_sinyal, sinyal_istimewa, 'm', label='Istimewa')\n",
        "plt.title('Kualitas Sinyal')\n",
        "plt.xlabel('Kualitas Sinyal (dB)')\n",
        "plt.ylabel('Derajat Keanggotaan')\n",
        "plt.legend()\n",
        "\n",
        "# Output: Kekuatan Daya pada Jaringan Seluler\n",
        "plt.subplot(3, 1, 3)\n",
        "plt.plot(kekuatan_daya, rendah_daya, 'b', label='Rendah')\n",
        "plt.plot(kekuatan_daya, tinggi_daya, 'r', label='Tinggi')\n",
        "plt.title('Kekuatan Daya pada Jaringan Seluler')\n",
        "plt.xlabel('Kekuatan Daya (W)')\n",
        "plt.ylabel('Derajat Keanggotaan')\n",
        "plt.legend()\n",
        "\n",
        "plt.tight_layout()\n",
        "plt.show()\n",
        "\n"
      ]
    }
  ]
}